{
  "nbformat": 4,
  "nbformat_minor": 0,
  "metadata": {
    "colab": {
      "provenance": [],
      "authorship_tag": "ABX9TyMpZDwpnpK/CMucrkcH5qiH",
      "include_colab_link": true
    },
    "kernelspec": {
      "name": "python3",
      "display_name": "Python 3"
    },
    "language_info": {
      "name": "python"
    }
  },
  "cells": [
    {
      "cell_type": "markdown",
      "metadata": {
        "id": "view-in-github",
        "colab_type": "text"
      },
      "source": [
        "<a href=\"https://colab.research.google.com/github/Sinchiguano/3D_Pose_Estimation_YuMiArm_ABB/blob/master/numpyLastPart.ipynb\" target=\"_parent\"><img src=\"https://colab.research.google.com/assets/colab-badge.svg\" alt=\"Open In Colab\"/></a>"
      ]
    },
    {
      "cell_type": "code",
      "execution_count": null,
      "metadata": {
        "colab": {
          "base_uri": "https://localhost:8080/"
        },
        "id": "hy45bEoD54sC",
        "outputId": "5fe23607-fb98-40d1-8030-3929b0efec62"
      },
      "outputs": [
        {
          "output_type": "stream",
          "name": "stdout",
          "text": [
            "[[ 1  4  2  1]\n",
            " [ 8  5 10  6]\n",
            " [10  4  7  4]]\n",
            "[[ 6  2  6 10]\n",
            " [10 10  4  6]\n",
            " [ 2  4  9  7]]\n",
            "(3, 4)\n",
            "(3, 4)\n",
            "adding numbers\n",
            "[[ 7  6  8 11]\n",
            " [18 15 14 12]\n",
            " [12  8 16 11]]\n",
            "substracting numbers\n",
            "[[-5  2 -4 -9]\n",
            " [-2 -5  6  0]\n",
            " [ 8  0 -2 -3]]\n",
            "[[ 7  6  8 11]\n",
            " [18 15 14 12]\n",
            " [12  8 16 11]]\n",
            "[[ 6  8 12 10]\n",
            " [80 50 40 36]\n",
            " [20 16 63 28]]\n"
          ]
        }
      ],
      "source": [
        "import numpy as np\n",
        "\n",
        "# Create an array with random integer values between 1 and 10\n",
        "a = np.random.randint(1, 11, size=(3,4))\n",
        "b = np.random.randint(1, 11, size=(3,4))\n",
        "print(a)\n",
        "print(b)\n",
        "print(a.shape)\n",
        "print(b.shape)\n",
        "print('adding numbers')\n",
        "print(a+b)\n",
        "print('substracting numbers')\n",
        "print(a-b)\n",
        "\n",
        "\n",
        "print(np.add(a,b))\n",
        "print(np.multiply(a,b))"
      ]
    },
    {
      "cell_type": "code",
      "source": [
        "a = np.random.randint(1, 11, size=(2,3))\n",
        "b = np.random.randint(1, 11, size=(3,4))\n",
        "print(a)\n",
        "print(b)\n",
        "print(np.dot(a,b))\n",
        "print(a.dot(b))"
      ],
      "metadata": {
        "colab": {
          "base_uri": "https://localhost:8080/"
        },
        "id": "WhvOp-um9fI-",
        "outputId": "ea8d398a-2d4a-4ea4-86ee-71a11e783395"
      },
      "execution_count": null,
      "outputs": [
        {
          "output_type": "stream",
          "name": "stdout",
          "text": [
            "[[7 4 4]\n",
            " [4 5 6]]\n",
            "[[ 2 10  3  4]\n",
            " [ 1  8  5  3]\n",
            " [ 1 10  4  7]]\n",
            "[[ 22 142  57  68]\n",
            " [ 19 140  61  73]]\n",
            "[[ 22 142  57  68]\n",
            " [ 19 140  61  73]]\n"
          ]
        }
      ]
    },
    {
      "cell_type": "code",
      "source": [
        "a = np.random.randint(1, 11, size=(2,2))\n",
        "print(a.shape)\n",
        "print(type(a))\n",
        "print(a)\n",
        "print(a.T)\n"
      ],
      "metadata": {
        "colab": {
          "base_uri": "https://localhost:8080/"
        },
        "id": "UZqAQsct_Chd",
        "outputId": "85d592aa-3580-4031-ea6b-da9ce5229b54"
      },
      "execution_count": null,
      "outputs": [
        {
          "output_type": "stream",
          "name": "stdout",
          "text": [
            "(2, 2)\n",
            "<class 'numpy.ndarray'>\n",
            "[[1 8]\n",
            " [7 8]]\n",
            "[[1 7]\n",
            " [8 8]]\n"
          ]
        }
      ]
    },
    {
      "cell_type": "code",
      "source": [
        "a=np.random.randint(1, 11, size=(4,3))\n",
        "b=np.array([1,0,2])\n",
        "print(a.shape)\n",
        "print(b.shape)\n",
        "\n",
        "c=np.empty_like(a)\n",
        "print(a)\n",
        "print(b)\n",
        "print(c.shape)\n",
        "print('---------------')\n",
        "print(c)"
      ],
      "metadata": {
        "colab": {
          "base_uri": "https://localhost:8080/"
        },
        "id": "rTSNTkaT_7--",
        "outputId": "e3e59d08-4c12-4fbe-87ca-b6aae58a95ac"
      },
      "execution_count": null,
      "outputs": [
        {
          "output_type": "stream",
          "name": "stdout",
          "text": [
            "(4, 3)\n",
            "(3,)\n",
            "[[10  9  1]\n",
            " [ 8  6  4]\n",
            " [10  4  5]\n",
            " [ 6  8  9]]\n",
            "[1 0 2]\n",
            "(4, 3)\n",
            "---------------\n",
            "[[10  6 10]\n",
            " [ 9  5  3]\n",
            " [ 7  5  8]\n",
            " [ 7  5  2]]\n"
          ]
        }
      ]
    },
    {
      "cell_type": "code",
      "source": [
        "for i in range(4):\n",
        "  c[i,:]=a[i,:]+b\n",
        "\n",
        "print(a)\n",
        "print(b)\n",
        "print(c)\n",
        "\n",
        "c=a+b\n",
        "print(c)"
      ],
      "metadata": {
        "colab": {
          "base_uri": "https://localhost:8080/"
        },
        "id": "N2jEhEZyBrW5",
        "outputId": "66ae9df1-b536-4b79-ddb6-34d3efe7954c"
      },
      "execution_count": null,
      "outputs": [
        {
          "output_type": "stream",
          "name": "stdout",
          "text": [
            "[[10  9  1]\n",
            " [ 8  6  4]\n",
            " [10  4  5]\n",
            " [ 6  8  9]]\n",
            "[1 0 2]\n",
            "[[11  9  3]\n",
            " [ 9  6  6]\n",
            " [11  4  7]\n",
            " [ 7  8 11]]\n",
            "[[11  9  3]\n",
            " [ 9  6  6]\n",
            " [11  4  7]\n",
            " [ 7  8 11]]\n"
          ]
        }
      ]
    },
    {
      "cell_type": "code",
      "source": [
        "a=np.array([1,2,3])\n",
        "\n",
        "# print(a)\n",
        "\n",
        "tmp=np.tile(a,(6,1))\n",
        "print(tmp)"
      ],
      "metadata": {
        "colab": {
          "base_uri": "https://localhost:8080/"
        },
        "id": "HyUtgPacDHPC",
        "outputId": "d214c1e3-46ab-4ca3-bb6c-cbba0cfab415"
      },
      "execution_count": null,
      "outputs": [
        {
          "output_type": "stream",
          "name": "stdout",
          "text": [
            "[[1 2 3]\n",
            " [1 2 3]\n",
            " [1 2 3]\n",
            " [1 2 3]\n",
            " [1 2 3]\n",
            " [1 2 3]]\n"
          ]
        }
      ]
    },
    {
      "cell_type": "code",
      "source": [
        "a=np.random.randint(0, 10, size=(6,6))\n",
        "print(a)\n",
        "aux=np.mean(a)\n",
        "print(aux)\n",
        "\n",
        "\n",
        "print(a.mean(axis=1))"
      ],
      "metadata": {
        "colab": {
          "base_uri": "https://localhost:8080/"
        },
        "id": "RVZmeCefGP7h",
        "outputId": "d6ad72d5-9c79-45af-d2c1-1e49cd3caaae"
      },
      "execution_count": null,
      "outputs": [
        {
          "output_type": "stream",
          "name": "stdout",
          "text": [
            "[[6 1 1 0 1 1]\n",
            " [2 8 2 8 8 9]\n",
            " [7 5 3 4 6 8]\n",
            " [9 5 4 9 8 2]\n",
            " [5 3 1 1 1 0]\n",
            " [6 1 7 9 1 7]]\n",
            "4.416666666666667\n",
            "[1.66666667 6.16666667 5.5        6.16666667 1.83333333 5.16666667]\n"
          ]
        }
      ]
    },
    {
      "cell_type": "code",
      "source": [],
      "metadata": {
        "id": "xbCgKBEhH9zE"
      },
      "execution_count": null,
      "outputs": []
    }
  ]
}